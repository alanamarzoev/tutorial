{
 "cells": [
  {
   "cell_type": "markdown",
   "metadata": {},
   "source": [
    "# Actors tutorial\n",
    "\n",
    "The goal of this exercise is to show how to create an actor and to call actor\n",
    "methods.\n",
    "\n",
    "Sometimes you need a \"worker\" process to have \"state\". For example, that\n",
    "state might be a neural network, a simulator environment, a counter, or\n",
    "something else entirely. However, remote functions are side-effect free. That\n",
    "is, they operate on inputs and produce outputs, but they don't change the\n",
    "state of the worker they execute on.\n",
    "\n",
    "Actors are different. When we instantiate an actor, a brand new worker is\n",
    "created, and all methods that are called on that actor are executed on the\n",
    "newly created worker.\n",
    "\n",
    "This means that with a single actor, no parallelism can be achieved because\n",
    "calls to the actor's methods will be executed one at a time. However,\n",
    "multiple actors can be created and methods can be executed on them in\n",
    "parallel.\n",
    "\n",
    "EXERCISE: Use actors to execute the code below remotely and to enable the\n",
    "tasks to share mutable state with each other."
   ]
  },
  {
   "cell_type": "code",
   "execution_count": 1,
   "metadata": {
    "collapsed": true
   },
   "outputs": [],
   "source": [
    "from __future__ import absolute_import\n",
    "from __future__ import division\n",
    "from __future__ import print_function\n",
    "\n",
    "import numpy as np\n",
    "import ray\n",
    "import time\n",
    "\n",
    "ray.init(num_cpus=4, redirect_output=True)"
   ]
  },
  {
   "cell_type": "code",
   "execution_count": null,
   "metadata": {
    "collapsed": true
   },
   "outputs": [],
   "source": [
    "class Foo(object):\n",
    "def __init__(self):\n",
    "  self.counter = 0\n",
    "\n",
    "def increment(self):\n",
    "  time.sleep(0.5)\n",
    "  self.counter += 1\n",
    "  return self.counter"
   ]
  },
  {
   "cell_type": "code",
   "execution_count": null,
   "metadata": {
    "collapsed": true
   },
   "outputs": [],
   "source": [
    "# Create two Foo objects.\n",
    "f1 = Foo()\n",
    "f2 = Foo()"
   ]
  },
  {
   "cell_type": "code",
   "execution_count": null,
   "metadata": {
    "collapsed": true
   },
   "outputs": [],
   "source": [
    "start_time = time.time()\n",
    "\n",
    "# We want to parallelize this code. However, it is not straightforward to\n",
    "# make \"increment\" a remote function, because state is shared (the value of\n",
    "# \"self.counter\") between subsequent calls to \"increment\". In this case, it\n",
    "# makes sense to use actors.\n",
    "results = []\n",
    "for _ in range(5):\n",
    "results.append(f1.increment())\n",
    "results.append(f2.increment())\n",
    "\n",
    "end_time = time.time()\n",
    "duration = end_time - start_time"
   ]
  },
  {
   "cell_type": "code",
   "execution_count": null,
   "metadata": {
    "collapsed": true
   },
   "outputs": [],
   "source": [
    "assert results == [1, 1, 2, 2, 3, 3, 4, 4, 5, 5]\n",
    "\n",
    "assert duration < 3, (\"The experiments ran in {} seconds. This is too \"\n",
    "                    \"slow.\".format(duration))\n",
    "\n",
    "print(\"Success! The example took {} seconds.\".format(duration))\n"
   ]
  }
 ],
 "metadata": {
  "kernelspec": {
   "display_name": "Python 2",
   "language": "python",
   "name": "python2"
  },
  "language_info": {
   "codemirror_mode": {
    "name": "ipython",
    "version": 2
   },
   "file_extension": ".py",
   "mimetype": "text/x-python",
   "name": "python",
   "nbconvert_exporter": "python",
   "pygments_lexer": "ipython2",
   "version": "2.7.13"
  }
 },
 "nbformat": 4,
 "nbformat_minor": 2
}
